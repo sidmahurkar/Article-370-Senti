{
  "nbformat": 4,
  "nbformat_minor": 0,
  "metadata": {
    "colab": {
      "name": "senti_using_textblob.ipynb",
      "provenance": [],
      "include_colab_link": true
    },
    "kernelspec": {
      "name": "python3",
      "display_name": "Python 3"
    },
    "accelerator": "GPU"
  },
  "cells": [
    {
      "cell_type": "markdown",
      "metadata": {
        "id": "view-in-github",
        "colab_type": "text"
      },
      "source": [
        "<a href=\"https://colab.research.google.com/github/sidmahurkar/Sentiment-Analysis-on-Abrogation-of-Article-370/blob/master/senti_using_textblob.ipynb\" target=\"_parent\"><img src=\"https://colab.research.google.com/assets/colab-badge.svg\" alt=\"Open In Colab\"/></a>"
      ]
    },
    {
      "cell_type": "code",
      "metadata": {
        "id": "00GlYfvTWvLT",
        "colab_type": "code",
        "colab": {}
      },
      "source": [
        "# Using textblob\n",
        "from textblob import TextBlob\n",
        "import io\n",
        "import os\n",
        "import json\n",
        "import numpy as np\n",
        "import pandas as pd\n",
        "import matplotlib.pyplot as plt\n",
        "import re\n",
        "from nltk.stem import SnowballStemmer\n",
        "from nltk.corpus import stopwords\n",
        "from wordcloud import WordCloud, STOPWORDS\t\n",
        "from collections import Counter\n",
        "from PIL import Image\n",
        "import numpy as np\n",
        "import urllib\n",
        "import requests"
      ],
      "execution_count": 0,
      "outputs": []
    },
    {
      "cell_type": "code",
      "metadata": {
        "id": "l1QQ-bFDdXiC",
        "colab_type": "code",
        "colab": {
          "base_uri": "https://localhost:8080/",
          "height": 126
        },
        "outputId": "a106c633-24b9-4eef-ac74-8d10b062c672"
      },
      "source": [
        "from google.colab import drive\n",
        "drive.mount('/content/gdrive')"
      ],
      "execution_count": 5,
      "outputs": [
        {
          "output_type": "stream",
          "text": [
            "Go to this URL in a browser: https://accounts.google.com/o/oauth2/auth?client_id=947318989803-6bn6qk8qdgf4n4g3pfee6491hc0brc4i.apps.googleusercontent.com&redirect_uri=urn%3Aietf%3Awg%3Aoauth%3A2.0%3Aoob&scope=email%20https%3A%2F%2Fwww.googleapis.com%2Fauth%2Fdocs.test%20https%3A%2F%2Fwww.googleapis.com%2Fauth%2Fdrive%20https%3A%2F%2Fwww.googleapis.com%2Fauth%2Fdrive.photos.readonly%20https%3A%2F%2Fwww.googleapis.com%2Fauth%2Fpeopleapi.readonly&response_type=code\n",
            "\n",
            "Enter your authorization code:\n",
            "··········\n",
            "Mounted at /content/gdrive\n"
          ],
          "name": "stdout"
        }
      ]
    },
    {
      "cell_type": "code",
      "metadata": {
        "id": "uLPV0WxYdNt5",
        "colab_type": "code",
        "colab": {}
      },
      "source": [
        "os.chdir(\"/content/gdrive/My Drive\")"
      ],
      "execution_count": 0,
      "outputs": []
    },
    {
      "cell_type": "code",
      "metadata": {
        "id": "GzuH4U5mdGkV",
        "colab_type": "code",
        "colab": {}
      },
      "source": [
        "with open('twit525.json') as json_file:\n",
        "    twitter = json.load(json_file)"
      ],
      "execution_count": 0,
      "outputs": []
    },
    {
      "cell_type": "code",
      "metadata": {
        "id": "_PxLZF0odQzq",
        "colab_type": "code",
        "colab": {}
      },
      "source": [
        "tweets = []\n",
        "for tweet_info in twitter:\n",
        "  tweet = tweet_info['text']\n",
        "  tweets.append(tweet)"
      ],
      "execution_count": 0,
      "outputs": []
    },
    {
      "cell_type": "code",
      "metadata": {
        "id": "JHJEA9hcdlWj",
        "colab_type": "code",
        "colab": {}
      },
      "source": [
        "tweet = pd.DataFrame(tweets, \n",
        "               columns =['text'])"
      ],
      "execution_count": 0,
      "outputs": []
    },
    {
      "cell_type": "code",
      "metadata": {
        "id": "_P0R7rsVdxbp",
        "colab_type": "code",
        "colab": {
          "base_uri": "https://localhost:8080/",
          "height": 194
        },
        "outputId": "45c7ac19-3bcb-45ab-a9a2-fdb30c7a9780"
      },
      "source": [
        "tweet.head()"
      ],
      "execution_count": 10,
      "outputs": [
        {
          "output_type": "execute_result",
          "data": {
            "text/html": [
              "<div>\n",
              "<style scoped>\n",
              "    .dataframe tbody tr th:only-of-type {\n",
              "        vertical-align: middle;\n",
              "    }\n",
              "\n",
              "    .dataframe tbody tr th {\n",
              "        vertical-align: top;\n",
              "    }\n",
              "\n",
              "    .dataframe thead th {\n",
              "        text-align: right;\n",
              "    }\n",
              "</style>\n",
              "<table border=\"1\" class=\"dataframe\">\n",
              "  <thead>\n",
              "    <tr style=\"text-align: right;\">\n",
              "      <th></th>\n",
              "      <th>text</th>\n",
              "    </tr>\n",
              "  </thead>\n",
              "  <tbody>\n",
              "    <tr>\n",
              "      <th>0</th>\n",
              "      <td>#KashmirWithModi\\nWith the scrapping of Articl...</td>\n",
              "    </tr>\n",
              "    <tr>\n",
              "      <th>1</th>\n",
              "      <td>#SACREDGAMES2 #Article370 #15AugustBlackDay</td>\n",
              "    </tr>\n",
              "    <tr>\n",
              "      <th>2</th>\n",
              "      <td>Black day in remembrance of intelligence blund...</td>\n",
              "    </tr>\n",
              "    <tr>\n",
              "      <th>3</th>\n",
              "      <td>1. Pakistan has changed the demographics with ...</td>\n",
              "    </tr>\n",
              "    <tr>\n",
              "      <th>4</th>\n",
              "      <td>BJP's Animated Explainer On \"How Article 370 W...</td>\n",
              "    </tr>\n",
              "  </tbody>\n",
              "</table>\n",
              "</div>"
            ],
            "text/plain": [
              "                                                text\n",
              "0  #KashmirWithModi\\nWith the scrapping of Articl...\n",
              "1        #SACREDGAMES2 #Article370 #15AugustBlackDay\n",
              "2  Black day in remembrance of intelligence blund...\n",
              "3  1. Pakistan has changed the demographics with ...\n",
              "4  BJP's Animated Explainer On \"How Article 370 W..."
            ]
          },
          "metadata": {
            "tags": []
          },
          "execution_count": 10
        }
      ]
    },
    {
      "cell_type": "code",
      "metadata": {
        "id": "ZSxE2NjidzAt",
        "colab_type": "code",
        "colab": {}
      },
      "source": [
        "# Preprocess\n",
        "def preprocess_tweet(text):\n",
        "  # # Remove any RT mentions present in the tweets.\n",
        "  # text = re.sub(r'^RT[\\s]+', ' ', text)\n",
        "  # Remove any https links present to URL\n",
        "  text = re.sub('((www\\.[^\\s]+)|(https?://[^\\s]+))','URL',text)\n",
        "  # # Remove any  http links present to URL\n",
        "  # text = re.sub('((www\\.[^\\s]+)|(http?://[^\\s]+))','URL',text)\n",
        "  # Convert any \"#xyz\" to \"xyz\" only\n",
        "  text = re.sub(r'#([^\\s]+)', r'\\1', text)\n",
        "  # Convert all the @ mentins to \"at_USER\"\n",
        "  text = re.sub(r'@[A-Za-z0–9]+', 'at_USER', text)\n",
        "  # Correct all multiple white spaces to a single white space\n",
        "  text = re.sub('[\\s]+', ' ', text)\n",
        "\n",
        "  return text "
      ],
      "execution_count": 0,
      "outputs": []
    },
    {
      "cell_type": "code",
      "metadata": {
        "id": "aGnjrgy6d6QR",
        "colab_type": "code",
        "colab": {}
      },
      "source": [
        "tweet['pros_text'] = tweet['text'].apply(preprocess_tweet)"
      ],
      "execution_count": 0,
      "outputs": []
    },
    {
      "cell_type": "code",
      "metadata": {
        "id": "X_bPmZBCd9kM",
        "colab_type": "code",
        "colab": {}
      },
      "source": [
        "#Sentiment analysis\n",
        "# import textblob as TextBlob\n",
        "# def polarity(text):\n",
        "#   blob = TextBlob(text)\n",
        "#   polarity = blob.sentiment.polarity\n",
        "#   return polarity\n",
        "\n",
        "# def subjectivity(text):\n",
        "#   blob = TextBlob(text)\n",
        "#   subjectivity = blob.sentiment.subjectivity\n",
        "#   return subjectivity\n",
        "\n",
        "polarity = (lambda x: TextBlob(x).sentiment.polarity)\n",
        "subjectivity = (lambda x: TextBlob(x).sentiment.subjectivity)\n",
        "\n",
        "tweet['polarity'] = tweet['pros_text'].apply(polarity)\n",
        "tweet['subjectivity'] = tweet['pros_text'].apply(subjectivity)"
      ],
      "execution_count": 0,
      "outputs": []
    },
    {
      "cell_type": "code",
      "metadata": {
        "id": "1ZVoko5MeEfE",
        "colab_type": "code",
        "colab": {}
      },
      "source": [
        "# function to assign a sentiment to each tweet\n",
        "\n",
        "def ratio(x):\n",
        "  if x > 0:\n",
        "    return \"positive\"\n",
        "  elif x == 0:\n",
        "    return \"neutral\"\n",
        "  else:\n",
        "    return \"negative\"\n",
        "\n",
        "tweet['sentiment'] = tweet['polarity'].apply(ratio)"
      ],
      "execution_count": 0,
      "outputs": []
    },
    {
      "cell_type": "code",
      "metadata": {
        "id": "B6U4QZ3qeFa7",
        "colab_type": "code",
        "colab": {
          "base_uri": "https://localhost:8080/",
          "height": 321
        },
        "outputId": "08a9d778-1db8-4b27-997b-3bec1ba17c5f"
      },
      "source": [
        "tweet['sentiment'].value_counts().plot(kind = 'bar')\n",
        "plt.figure(figsize=(15,15))\n",
        "plt.show()"
      ],
      "execution_count": 16,
      "outputs": [
        {
          "output_type": "display_data",
          "data": {
            "image/png": "[encoded data removed]",
            "text/plain": [
              "<Figure size 432x288 with 1 Axes>"
            ]
          },
          "metadata": {
            "tags": []
          }
        },
        {
          "output_type": "display_data",
          "data": {
            "text/plain": [
              "<Figure size 1080x1080 with 0 Axes>"
            ]
          },
          "metadata": {
            "tags": []
          }
        }
      ]
    }
  ]
}