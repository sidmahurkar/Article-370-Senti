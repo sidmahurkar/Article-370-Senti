{
  "nbformat": 4,
  "nbformat_minor": 0,
  "metadata": {
    "colab": {
      "name": "senti_using_nltk.ipynb",
      "provenance": [],
      "include_colab_link": true
    },
    "kernelspec": {
      "name": "python3",
      "display_name": "Python 3"
    },
    "accelerator": "GPU"
  },
  "cells": [
    {
      "cell_type": "markdown",
      "metadata": {
        "id": "view-in-github",
        "colab_type": "text"
      },
      "source": [
        "<a href=\"https://colab.research.google.com/github/sidmahurkar/Sentiment-Analysis-on-Abrogation-of-Article-370/blob/master/senti_using_nltk.ipynb\" target=\"_parent\"><img src=\"https://colab.research.google.com/assets/colab-badge.svg\" alt=\"Open In Colab\"/></a>"
      ]
    },
    {
      "cell_type": "code",
      "metadata": {
        "id": "XcknhITEDEqm",
        "colab_type": "code",
        "colab": {
          "base_uri": "https://localhost:8080/",
          "height": 52
        },
        "outputId": "c52701aa-2d51-498c-b54b-adc536191660"
      },
      "source": [
        "from nltk.sentiment.vader import SentimentIntensityAnalyzer\n",
        "from nltk.sentiment.util import *\n",
        "import io\n",
        "import os\n",
        "import json\n",
        "import numpy as np\n",
        "import pandas as pd\n",
        "import matplotlib.pyplot as plt\n",
        "import re\n",
        "from nltk.stem import SnowballStemmer\n",
        "from nltk.corpus import stopwords\n",
        "from wordcloud import WordCloud, STOPWORDS\t\n",
        "from collections import Counter\n",
        "from PIL import Image\n",
        "import numpy as np\n",
        "import urllib\n",
        "import requests"
      ],
      "execution_count": 2,
      "outputs": [
        {
          "output_type": "stream",
          "text": [
            "/usr/local/lib/python3.6/dist-packages/nltk/twitter/__init__.py:20: UserWarning: The twython library has not been installed. Some functionality from the twitter package will not be available.\n",
            "  warnings.warn(\"The twython library has not been installed. \"\n"
          ],
          "name": "stderr"
        }
      ]
    },
    {
      "cell_type": "code",
      "metadata": {
        "id": "iAPJ2_0HDSJh",
        "colab_type": "code",
        "colab": {
          "base_uri": "https://localhost:8080/",
          "height": 35
        },
        "outputId": "3252908e-1bcc-49e5-a9b6-57621d3f9249"
      },
      "source": [
        "from google.colab import drive\n",
        "drive.mount('/content/gdrive')"
      ],
      "execution_count": 3,
      "outputs": [
        {
          "output_type": "stream",
          "text": [
            "Drive already mounted at /content/gdrive; to attempt to forcibly remount, call drive.mount(\"/content/gdrive\", force_remount=True).\n"
          ],
          "name": "stdout"
        }
      ]
    },
    {
      "cell_type": "code",
      "metadata": {
        "id": "3cL3P0SvEfdv",
        "colab_type": "code",
        "colab": {}
      },
      "source": [
        "os.chdir(\"/content/gdrive/My Drive\")"
      ],
      "execution_count": 0,
      "outputs": []
    },
    {
      "cell_type": "code",
      "metadata": {
        "id": "Ri_mlNFzFCJi",
        "colab_type": "code",
        "colab": {}
      },
      "source": [
        "with open('twit525.json') as json_file:\n",
        "    twitter = json.load(json_file)"
      ],
      "execution_count": 0,
      "outputs": []
    },
    {
      "cell_type": "code",
      "metadata": {
        "id": "m0WM6T-mFEzQ",
        "colab_type": "code",
        "colab": {}
      },
      "source": [
        "tweets = []\n",
        "for tweet_info in twitter:\n",
        "  tweet = tweet_info['text']\n",
        "  tweets.append(tweet)"
      ],
      "execution_count": 0,
      "outputs": []
    },
    {
      "cell_type": "code",
      "metadata": {
        "id": "okUszFzpRFO4",
        "colab_type": "code",
        "colab": {}
      },
      "source": [
        "time_of_tweets = []\n",
        "for tweet_info in twitter:\n",
        "  time = tweet_info['timestamp']\n",
        "  time_of_tweets.append(time)"
      ],
      "execution_count": 0,
      "outputs": []
    },
    {
      "cell_type": "code",
      "metadata": {
        "id": "JjjgSsmuRKIk",
        "colab_type": "code",
        "colab": {}
      },
      "source": [
        "retweets = []\n",
        "for tweet_info in twitter:\n",
        "  retweet = tweet_info['retweets']\n",
        "  retweets.append(retweet)"
      ],
      "execution_count": 0,
      "outputs": []
    },
    {
      "cell_type": "code",
      "metadata": {
        "id": "zdSpPLQSRKtD",
        "colab_type": "code",
        "colab": {}
      },
      "source": [
        "number_of_words = []\n",
        "for i in range(len(tweets)):\n",
        "  number_of_words.append(len(tweets[i].split(' ')))"
      ],
      "execution_count": 0,
      "outputs": []
    },
    {
      "cell_type": "code",
      "metadata": {
        "id": "qcu9nvkLFGoT",
        "colab_type": "code",
        "colab": {}
      },
      "source": [
        "tweet = pd.DataFrame(list(zip(tweets, retweets, time_of_tweets,number_of_words)), \n",
        "               columns =['text', 'retweet','created','number_of_words']) "
      ],
      "execution_count": 0,
      "outputs": []
    },
    {
      "cell_type": "code",
      "metadata": {
        "id": "tPQpbsLCFKjX",
        "colab_type": "code",
        "colab": {
          "base_uri": "https://localhost:8080/",
          "height": 194
        },
        "outputId": "6114d891-92c5-4c5d-cea0-a5bc7e85b53b"
      },
      "source": [
        "tweet.head()"
      ],
      "execution_count": 36,
      "outputs": [
        {
          "output_type": "execute_result",
          "data": {
            "text/html": [
              "<div>\n",
              "<style scoped>\n",
              "    .dataframe tbody tr th:only-of-type {\n",
              "        vertical-align: middle;\n",
              "    }\n",
              "\n",
              "    .dataframe tbody tr th {\n",
              "        vertical-align: top;\n",
              "    }\n",
              "\n",
              "    .dataframe thead th {\n",
              "        text-align: right;\n",
              "    }\n",
              "</style>\n",
              "<table border=\"1\" class=\"dataframe\">\n",
              "  <thead>\n",
              "    <tr style=\"text-align: right;\">\n",
              "      <th></th>\n",
              "      <th>text</th>\n",
              "      <th>retweet</th>\n",
              "      <th>created</th>\n",
              "      <th>number_of_words</th>\n",
              "    </tr>\n",
              "  </thead>\n",
              "  <tbody>\n",
              "    <tr>\n",
              "      <th>0</th>\n",
              "      <td>#KashmirWithModi\\nWith the scrapping of Articl...</td>\n",
              "      <td>0</td>\n",
              "      <td>2019-08-14T23:58:46</td>\n",
              "      <td>29</td>\n",
              "    </tr>\n",
              "    <tr>\n",
              "      <th>1</th>\n",
              "      <td>#SACREDGAMES2 #Article370 #15AugustBlackDay</td>\n",
              "      <td>0</td>\n",
              "      <td>2019-08-14T23:57:31</td>\n",
              "      <td>3</td>\n",
              "    </tr>\n",
              "    <tr>\n",
              "      <th>2</th>\n",
              "      <td>Black day in remembrance of intelligence blund...</td>\n",
              "      <td>0</td>\n",
              "      <td>2019-08-14T23:56:14</td>\n",
              "      <td>18</td>\n",
              "    </tr>\n",
              "    <tr>\n",
              "      <th>3</th>\n",
              "      <td>1. Pakistan has changed the demographics with ...</td>\n",
              "      <td>0</td>\n",
              "      <td>2019-08-14T23:55:25</td>\n",
              "      <td>45</td>\n",
              "    </tr>\n",
              "    <tr>\n",
              "      <th>4</th>\n",
              "      <td>BJP's Animated Explainer On \"How Article 370 W...</td>\n",
              "      <td>0</td>\n",
              "      <td>2019-08-14T23:54:22</td>\n",
              "      <td>15</td>\n",
              "    </tr>\n",
              "  </tbody>\n",
              "</table>\n",
              "</div>"
            ],
            "text/plain": [
              "                                                text  ...  number_of_words\n",
              "0  #KashmirWithModi\\nWith the scrapping of Articl...  ...               29\n",
              "1        #SACREDGAMES2 #Article370 #15AugustBlackDay  ...                3\n",
              "2  Black day in remembrance of intelligence blund...  ...               18\n",
              "3  1. Pakistan has changed the demographics with ...  ...               45\n",
              "4  BJP's Animated Explainer On \"How Article 370 W...  ...               15\n",
              "\n",
              "[5 rows x 4 columns]"
            ]
          },
          "metadata": {
            "tags": []
          },
          "execution_count": 36
        }
      ]
    },
    {
      "cell_type": "code",
      "metadata": {
        "id": "u05ZxwfRRaob",
        "colab_type": "code",
        "colab": {}
      },
      "source": [
        "tweet['hour'] = pd.DatetimeIndex(tweet['created']).hour\n",
        "tweet['date'] = pd.DatetimeIndex(tweet['created']).date\n",
        "tweet['minute'] = pd.DatetimeIndex(tweet['created']).minute\n",
        "tweet['day'] = pd.DatetimeIndex(tweet['created']).day"
      ],
      "execution_count": 0,
      "outputs": []
    },
    {
      "cell_type": "code",
      "metadata": {
        "id": "0u2px2c8ResV",
        "colab_type": "code",
        "colab": {
          "base_uri": "https://localhost:8080/",
          "height": 194
        },
        "outputId": "35263312-398c-4244-a2ca-93217d24090e"
      },
      "source": [
        "tweet.head()"
      ],
      "execution_count": 38,
      "outputs": [
        {
          "output_type": "execute_result",
          "data": {
            "text/html": [
              "<div>\n",
              "<style scoped>\n",
              "    .dataframe tbody tr th:only-of-type {\n",
              "        vertical-align: middle;\n",
              "    }\n",
              "\n",
              "    .dataframe tbody tr th {\n",
              "        vertical-align: top;\n",
              "    }\n",
              "\n",
              "    .dataframe thead th {\n",
              "        text-align: right;\n",
              "    }\n",
              "</style>\n",
              "<table border=\"1\" class=\"dataframe\">\n",
              "  <thead>\n",
              "    <tr style=\"text-align: right;\">\n",
              "      <th></th>\n",
              "      <th>text</th>\n",
              "      <th>retweet</th>\n",
              "      <th>created</th>\n",
              "      <th>number_of_words</th>\n",
              "      <th>hour</th>\n",
              "      <th>date</th>\n",
              "      <th>minute</th>\n",
              "      <th>day</th>\n",
              "    </tr>\n",
              "  </thead>\n",
              "  <tbody>\n",
              "    <tr>\n",
              "      <th>0</th>\n",
              "      <td>#KashmirWithModi\\nWith the scrapping of Articl...</td>\n",
              "      <td>0</td>\n",
              "      <td>2019-08-14T23:58:46</td>\n",
              "      <td>29</td>\n",
              "      <td>23</td>\n",
              "      <td>2019-08-14</td>\n",
              "      <td>58</td>\n",
              "      <td>14</td>\n",
              "    </tr>\n",
              "    <tr>\n",
              "      <th>1</th>\n",
              "      <td>#SACREDGAMES2 #Article370 #15AugustBlackDay</td>\n",
              "      <td>0</td>\n",
              "      <td>2019-08-14T23:57:31</td>\n",
              "      <td>3</td>\n",
              "      <td>23</td>\n",
              "      <td>2019-08-14</td>\n",
              "      <td>57</td>\n",
              "      <td>14</td>\n",
              "    </tr>\n",
              "    <tr>\n",
              "      <th>2</th>\n",
              "      <td>Black day in remembrance of intelligence blund...</td>\n",
              "      <td>0</td>\n",
              "      <td>2019-08-14T23:56:14</td>\n",
              "      <td>18</td>\n",
              "      <td>23</td>\n",
              "      <td>2019-08-14</td>\n",
              "      <td>56</td>\n",
              "      <td>14</td>\n",
              "    </tr>\n",
              "    <tr>\n",
              "      <th>3</th>\n",
              "      <td>1. Pakistan has changed the demographics with ...</td>\n",
              "      <td>0</td>\n",
              "      <td>2019-08-14T23:55:25</td>\n",
              "      <td>45</td>\n",
              "      <td>23</td>\n",
              "      <td>2019-08-14</td>\n",
              "      <td>55</td>\n",
              "      <td>14</td>\n",
              "    </tr>\n",
              "    <tr>\n",
              "      <th>4</th>\n",
              "      <td>BJP's Animated Explainer On \"How Article 370 W...</td>\n",
              "      <td>0</td>\n",
              "      <td>2019-08-14T23:54:22</td>\n",
              "      <td>15</td>\n",
              "      <td>23</td>\n",
              "      <td>2019-08-14</td>\n",
              "      <td>54</td>\n",
              "      <td>14</td>\n",
              "    </tr>\n",
              "  </tbody>\n",
              "</table>\n",
              "</div>"
            ],
            "text/plain": [
              "                                                text  retweet  ... minute  day\n",
              "0  #KashmirWithModi\\nWith the scrapping of Articl...        0  ...     58   14\n",
              "1        #SACREDGAMES2 #Article370 #15AugustBlackDay        0  ...     57   14\n",
              "2  Black day in remembrance of intelligence blund...        0  ...     56   14\n",
              "3  1. Pakistan has changed the demographics with ...        0  ...     55   14\n",
              "4  BJP's Animated Explainer On \"How Article 370 W...        0  ...     54   14\n",
              "\n",
              "[5 rows x 8 columns]"
            ]
          },
          "metadata": {
            "tags": []
          },
          "execution_count": 38
        }
      ]
    },
    {
      "cell_type": "code",
      "metadata": {
        "id": "fO3tg_WEFTv7",
        "colab_type": "code",
        "colab": {
          "base_uri": "https://localhost:8080/",
          "height": 106
        },
        "outputId": "cc08c427-de31-41a7-df98-933a1cfff69e"
      },
      "source": [
        "from nltk import tokenize\n",
        "import nltk\n",
        "nltk.download('wordnet')\n",
        "nltk.download('vader_lexicon')"
      ],
      "execution_count": 39,
      "outputs": [
        {
          "output_type": "stream",
          "text": [
            "[nltk_data] Downloading package wordnet to /root/nltk_data...\n",
            "[nltk_data]   Package wordnet is already up-to-date!\n",
            "[nltk_data] Downloading package vader_lexicon to /root/nltk_data...\n",
            "[nltk_data]   Package vader_lexicon is already up-to-date!\n"
          ],
          "name": "stdout"
        },
        {
          "output_type": "execute_result",
          "data": {
            "text/plain": [
              "True"
            ]
          },
          "metadata": {
            "tags": []
          },
          "execution_count": 39
        }
      ]
    },
    {
      "cell_type": "code",
      "metadata": {
        "id": "oc5jOhvIFWvh",
        "colab_type": "code",
        "colab": {}
      },
      "source": [
        "# Lemmatize the Text\n",
        "from nltk.stem import WordNetLemmatizer\n",
        "tweet['text_lem'] = [''.join([WordNetLemmatizer().lemmatize(re.sub('[^A-Za-z]', ' ', line)) for line in lists]).strip() for lists in tweet['text']]"
      ],
      "execution_count": 0,
      "outputs": []
    },
    {
      "cell_type": "code",
      "metadata": {
        "id": "VODWMi2HGvps",
        "colab_type": "code",
        "colab": {
          "base_uri": "https://localhost:8080/",
          "height": 194
        },
        "outputId": "31c57156-67f3-405d-ea7c-0290c8cdef60"
      },
      "source": [
        "tweet.head()"
      ],
      "execution_count": 41,
      "outputs": [
        {
          "output_type": "execute_result",
          "data": {
            "text/html": [
              "<div>\n",
              "<style scoped>\n",
              "    .dataframe tbody tr th:only-of-type {\n",
              "        vertical-align: middle;\n",
              "    }\n",
              "\n",
              "    .dataframe tbody tr th {\n",
              "        vertical-align: top;\n",
              "    }\n",
              "\n",
              "    .dataframe thead th {\n",
              "        text-align: right;\n",
              "    }\n",
              "</style>\n",
              "<table border=\"1\" class=\"dataframe\">\n",
              "  <thead>\n",
              "    <tr style=\"text-align: right;\">\n",
              "      <th></th>\n",
              "      <th>text</th>\n",
              "      <th>retweet</th>\n",
              "      <th>created</th>\n",
              "      <th>number_of_words</th>\n",
              "      <th>hour</th>\n",
              "      <th>date</th>\n",
              "      <th>minute</th>\n",
              "      <th>day</th>\n",
              "      <th>text_lem</th>\n",
              "    </tr>\n",
              "  </thead>\n",
              "  <tbody>\n",
              "    <tr>\n",
              "      <th>0</th>\n",
              "      <td>#KashmirWithModi\\nWith the scrapping of Articl...</td>\n",
              "      <td>0</td>\n",
              "      <td>2019-08-14T23:58:46</td>\n",
              "      <td>29</td>\n",
              "      <td>23</td>\n",
              "      <td>2019-08-14</td>\n",
              "      <td>58</td>\n",
              "      <td>14</td>\n",
              "      <td>KashmirWithModi With the scrapping of Article ...</td>\n",
              "    </tr>\n",
              "    <tr>\n",
              "      <th>1</th>\n",
              "      <td>#SACREDGAMES2 #Article370 #15AugustBlackDay</td>\n",
              "      <td>0</td>\n",
              "      <td>2019-08-14T23:57:31</td>\n",
              "      <td>3</td>\n",
              "      <td>23</td>\n",
              "      <td>2019-08-14</td>\n",
              "      <td>57</td>\n",
              "      <td>14</td>\n",
              "      <td>SACREDGAMES   Article       AugustBlackDay</td>\n",
              "    </tr>\n",
              "    <tr>\n",
              "      <th>2</th>\n",
              "      <td>Black day in remembrance of intelligence blund...</td>\n",
              "      <td>0</td>\n",
              "      <td>2019-08-14T23:56:14</td>\n",
              "      <td>18</td>\n",
              "      <td>23</td>\n",
              "      <td>2019-08-14</td>\n",
              "      <td>56</td>\n",
              "      <td>14</td>\n",
              "      <td>Black day in remembrance of intelligence blund...</td>\n",
              "    </tr>\n",
              "    <tr>\n",
              "      <th>3</th>\n",
              "      <td>1. Pakistan has changed the demographics with ...</td>\n",
              "      <td>0</td>\n",
              "      <td>2019-08-14T23:55:25</td>\n",
              "      <td>45</td>\n",
              "      <td>23</td>\n",
              "      <td>2019-08-14</td>\n",
              "      <td>55</td>\n",
              "      <td>14</td>\n",
              "      <td>Pakistan has changed the demographics with man...</td>\n",
              "    </tr>\n",
              "    <tr>\n",
              "      <th>4</th>\n",
              "      <td>BJP's Animated Explainer On \"How Article 370 W...</td>\n",
              "      <td>0</td>\n",
              "      <td>2019-08-14T23:54:22</td>\n",
              "      <td>15</td>\n",
              "      <td>23</td>\n",
              "      <td>2019-08-14</td>\n",
              "      <td>54</td>\n",
              "      <td>14</td>\n",
              "      <td>BJP s Animated Explainer On  How Article     W...</td>\n",
              "    </tr>\n",
              "  </tbody>\n",
              "</table>\n",
              "</div>"
            ],
            "text/plain": [
              "                                                text  ...                                           text_lem\n",
              "0  #KashmirWithModi\\nWith the scrapping of Articl...  ...  KashmirWithModi With the scrapping of Article ...\n",
              "1        #SACREDGAMES2 #Article370 #15AugustBlackDay  ...         SACREDGAMES   Article       AugustBlackDay\n",
              "2  Black day in remembrance of intelligence blund...  ...  Black day in remembrance of intelligence blund...\n",
              "3  1. Pakistan has changed the demographics with ...  ...  Pakistan has changed the demographics with man...\n",
              "4  BJP's Animated Explainer On \"How Article 370 W...  ...  BJP s Animated Explainer On  How Article     W...\n",
              "\n",
              "[5 rows x 9 columns]"
            ]
          },
          "metadata": {
            "tags": []
          },
          "execution_count": 41
        }
      ]
    },
    {
      "cell_type": "code",
      "metadata": {
        "id": "MG2DaXynHvOq",
        "colab_type": "code",
        "colab": {
          "base_uri": "https://localhost:8080/",
          "height": 413
        },
        "outputId": "15247e2f-c5b3-4592-f2dc-261a4afba8c9"
      },
      "source": [
        "sid = SentimentIntensityAnalyzer()\n",
        "\n",
        "tweet['sentiment_compound_polarity']=tweet.text_lem.apply(lambda x:sid.polarity_scores(x)['compound'])\n",
        "tweet['sentiment_neutral']=tweet.text_lem.apply(lambda x:sid.polarity_scores(x)['neu'])\n",
        "tweet['sentiment_negative']=tweet.text_lem.apply(lambda x:sid.polarity_scores(x)['neg'])\n",
        "tweet['sentiment_pos']=tweet.text_lem.apply(lambda x:sid.polarity_scores(x)['pos'])\n",
        "tweet['sentiment_type']=''\n",
        "tweet.loc[tweet.sentiment_compound_polarity>0,'sentiment_type']='POSITIVE'\n",
        "tweet.loc[tweet.sentiment_compound_polarity==0,'sentiment_type']='NEUTRAL'\n",
        "tweet.loc[tweet.sentiment_compound_polarity<0,'sentiment_type']='NEGATIVE'\n",
        "tweet.head()"
      ],
      "execution_count": 42,
      "outputs": [
        {
          "output_type": "execute_result",
          "data": {
            "text/html": [
              "<div>\n",
              "<style scoped>\n",
              "    .dataframe tbody tr th:only-of-type {\n",
              "        vertical-align: middle;\n",
              "    }\n",
              "\n",
              "    .dataframe tbody tr th {\n",
              "        vertical-align: top;\n",
              "    }\n",
              "\n",
              "    .dataframe thead th {\n",
              "        text-align: right;\n",
              "    }\n",
              "</style>\n",
              "<table border=\"1\" class=\"dataframe\">\n",
              "  <thead>\n",
              "    <tr style=\"text-align: right;\">\n",
              "      <th></th>\n",
              "      <th>text</th>\n",
              "      <th>retweet</th>\n",
              "      <th>created</th>\n",
              "      <th>number_of_words</th>\n",
              "      <th>hour</th>\n",
              "      <th>date</th>\n",
              "      <th>minute</th>\n",
              "      <th>day</th>\n",
              "      <th>text_lem</th>\n",
              "      <th>sentiment_compound_polarity</th>\n",
              "      <th>sentiment_neutral</th>\n",
              "      <th>sentiment_negative</th>\n",
              "      <th>sentiment_pos</th>\n",
              "      <th>sentiment_type</th>\n",
              "    </tr>\n",
              "  </thead>\n",
              "  <tbody>\n",
              "    <tr>\n",
              "      <th>0</th>\n",
              "      <td>#KashmirWithModi\\nWith the scrapping of Articl...</td>\n",
              "      <td>0</td>\n",
              "      <td>2019-08-14T23:58:46</td>\n",
              "      <td>29</td>\n",
              "      <td>23</td>\n",
              "      <td>2019-08-14</td>\n",
              "      <td>58</td>\n",
              "      <td>14</td>\n",
              "      <td>KashmirWithModi With the scrapping of Article ...</td>\n",
              "      <td>0.5859</td>\n",
              "      <td>0.854</td>\n",
              "      <td>0.000</td>\n",
              "      <td>0.146</td>\n",
              "      <td>POSITIVE</td>\n",
              "    </tr>\n",
              "    <tr>\n",
              "      <th>1</th>\n",
              "      <td>#SACREDGAMES2 #Article370 #15AugustBlackDay</td>\n",
              "      <td>0</td>\n",
              "      <td>2019-08-14T23:57:31</td>\n",
              "      <td>3</td>\n",
              "      <td>23</td>\n",
              "      <td>2019-08-14</td>\n",
              "      <td>57</td>\n",
              "      <td>14</td>\n",
              "      <td>SACREDGAMES   Article       AugustBlackDay</td>\n",
              "      <td>0.0000</td>\n",
              "      <td>1.000</td>\n",
              "      <td>0.000</td>\n",
              "      <td>0.000</td>\n",
              "      <td>NEUTRAL</td>\n",
              "    </tr>\n",
              "    <tr>\n",
              "      <th>2</th>\n",
              "      <td>Black day in remembrance of intelligence blund...</td>\n",
              "      <td>0</td>\n",
              "      <td>2019-08-14T23:56:14</td>\n",
              "      <td>18</td>\n",
              "      <td>23</td>\n",
              "      <td>2019-08-14</td>\n",
              "      <td>56</td>\n",
              "      <td>14</td>\n",
              "      <td>Black day in remembrance of intelligence blund...</td>\n",
              "      <td>0.8860</td>\n",
              "      <td>0.634</td>\n",
              "      <td>0.000</td>\n",
              "      <td>0.366</td>\n",
              "      <td>POSITIVE</td>\n",
              "    </tr>\n",
              "    <tr>\n",
              "      <th>3</th>\n",
              "      <td>1. Pakistan has changed the demographics with ...</td>\n",
              "      <td>0</td>\n",
              "      <td>2019-08-14T23:55:25</td>\n",
              "      <td>45</td>\n",
              "      <td>23</td>\n",
              "      <td>2019-08-14</td>\n",
              "      <td>55</td>\n",
              "      <td>14</td>\n",
              "      <td>Pakistan has changed the demographics with man...</td>\n",
              "      <td>0.2924</td>\n",
              "      <td>0.953</td>\n",
              "      <td>0.000</td>\n",
              "      <td>0.047</td>\n",
              "      <td>POSITIVE</td>\n",
              "    </tr>\n",
              "    <tr>\n",
              "      <th>4</th>\n",
              "      <td>BJP's Animated Explainer On \"How Article 370 W...</td>\n",
              "      <td>0</td>\n",
              "      <td>2019-08-14T23:54:22</td>\n",
              "      <td>15</td>\n",
              "      <td>23</td>\n",
              "      <td>2019-08-14</td>\n",
              "      <td>54</td>\n",
              "      <td>14</td>\n",
              "      <td>BJP s Animated Explainer On  How Article     W...</td>\n",
              "      <td>-0.7906</td>\n",
              "      <td>0.781</td>\n",
              "      <td>0.219</td>\n",
              "      <td>0.000</td>\n",
              "      <td>NEGATIVE</td>\n",
              "    </tr>\n",
              "  </tbody>\n",
              "</table>\n",
              "</div>"
            ],
            "text/plain": [
              "                                                text  ...  sentiment_type\n",
              "0  #KashmirWithModi\\nWith the scrapping of Articl...  ...        POSITIVE\n",
              "1        #SACREDGAMES2 #Article370 #15AugustBlackDay  ...         NEUTRAL\n",
              "2  Black day in remembrance of intelligence blund...  ...        POSITIVE\n",
              "3  1. Pakistan has changed the demographics with ...  ...        POSITIVE\n",
              "4  BJP's Animated Explainer On \"How Article 370 W...  ...        NEGATIVE\n",
              "\n",
              "[5 rows x 14 columns]"
            ]
          },
          "metadata": {
            "tags": []
          },
          "execution_count": 42
        }
      ]
    },
    {
      "cell_type": "code",
      "metadata": {
        "id": "NeR7eJp_J23W",
        "colab_type": "code",
        "colab": {}
      },
      "source": [
        "import matplotlib\n",
        "matplotlib.style.use('ggplot')\n",
        "\n",
        "tweets_sentiment = tweet.groupby(['sentiment_type'])['sentiment_neutral'].count()\n",
        "tweets_sentnt = tweet.groupby(['sentiment_type']).count()"
      ],
      "execution_count": 0,
      "outputs": []
    },
    {
      "cell_type": "code",
      "metadata": {
        "id": "paLWykfvLPxA",
        "colab_type": "code",
        "colab": {
          "base_uri": "https://localhost:8080/",
          "height": 106
        },
        "outputId": "cd7c4887-0a03-44c3-ed7b-9679991cc8e9"
      },
      "source": [
        "tweets_sentiment"
      ],
      "execution_count": 44,
      "outputs": [
        {
          "output_type": "execute_result",
          "data": {
            "text/plain": [
              "sentiment_type\n",
              "NEGATIVE     57791\n",
              "NEUTRAL     113650\n",
              "POSITIVE    110831\n",
              "Name: sentiment_neutral, dtype: int64"
            ]
          },
          "metadata": {
            "tags": []
          },
          "execution_count": 44
        }
      ]
    },
    {
      "cell_type": "code",
      "metadata": {
        "id": "Bv8PtyKPN_T7",
        "colab_type": "code",
        "colab": {
          "base_uri": "https://localhost:8080/",
          "height": 518
        },
        "outputId": "a917a4c0-6cdd-4413-b27f-3401aef862d0"
      },
      "source": [
        "tweets_sentiment.rename(\"\",inplace=True)\n",
        "explode = (0, 0, 1.0)\n",
        "# plt.subplot(221)\n",
        "tweets_sentiment.transpose().plot(kind='barh',figsize=(12, 8))\n",
        "plt.title('Sentiment Analysis 1', bbox={'facecolor':'0.8', 'pad':0})\n",
        "# plt.subplot(222)\n"
      ],
      "execution_count": 45,
      "outputs": [
        {
          "output_type": "execute_result",
          "data": {
            "text/plain": [
              "Text(0.5, 1.0, 'Sentiment Analysis 1')"
            ]
          },
          "metadata": {
            "tags": []
          },
          "execution_count": 45
        },
        {
          "output_type": "display_data",
          "data": {
            "image/png": "[encoded data removed]",
            "text/plain": [
              "<Figure size 864x576 with 1 Axes>"
            ]
          },
          "metadata": {
            "tags": []
          }
        }
      ]
    },
    {
      "cell_type": "code",
      "metadata": {
        "id": "TwwDu5IhOeYm",
        "colab_type": "code",
        "colab": {
          "base_uri": "https://localhost:8080/",
          "height": 664
        },
        "outputId": "1fff010e-0a71-47df-ca98-e916239454f3"
      },
      "source": [
        "tweets_sentiment.plot(kind='pie',figsize=(12, 8),autopct='%1.1f%%',shadow=True,explode=explode)\n",
        "plt.legend(bbox_to_anchor=(1, 1), loc=3, borderaxespad=0.)\n",
        "plt.title('Sentiment Analysis 2', bbox={'facecolor':'0.8', 'pad':0})"
      ],
      "execution_count": 46,
      "outputs": [
        {
          "output_type": "execute_result",
          "data": {
            "text/plain": [
              "Text(0.5, 1.0, 'Sentiment Analysis 2')"
            ]
          },
          "metadata": {
            "tags": []
          },
          "execution_count": 46
        },
        {
          "output_type": "display_data",
          "data": {
            "image/png": "[encoded data removed]",
            "text/plain": [
              "<Figure size 864x576 with 1 Axes>"
            ]
          },
          "metadata": {
            "tags": []
          }
        }
      ]
    },
    {
      "cell_type": "code",
      "metadata": {
        "id": "3EpTaG3uOlFa",
        "colab_type": "code",
        "colab": {
          "base_uri": "https://localhost:8080/",
          "height": 141
        },
        "outputId": "1c79aa6b-0329-4956-938c-bc23c18dc748"
      },
      "source": [
        "tweet['count'] = 1\n",
        "tweets_filtered = tweet[['hour', 'sentiment_type', 'count']]\n",
        "pivot_tweets = tweets_filtered.pivot_table(tweets_filtered, index=[\"sentiment_type\", \"hour\"], aggfunc=np.sum)\n",
        "print(pivot_tweets.head())"
      ],
      "execution_count": 47,
      "outputs": [
        {
          "output_type": "stream",
          "text": [
            "                     count\n",
            "sentiment_type hour       \n",
            "NEGATIVE       0       395\n",
            "               1       589\n",
            "               2       879\n",
            "               3      1202\n",
            "               4      1476\n"
          ],
          "name": "stdout"
        }
      ]
    },
    {
      "cell_type": "code",
      "metadata": {
        "id": "gSKFLHP8RyNJ",
        "colab_type": "code",
        "colab": {
          "base_uri": "https://localhost:8080/",
          "height": 316
        },
        "outputId": "f3a077ae-5fa8-4cf1-c484-747cb0b4ee05"
      },
      "source": [
        "sentiment_type = pivot_tweets.index.get_level_values(0).unique()\n",
        "# f, ax = plt.subplots(2, 1, figsize=(8, 10))\n",
        "# plt.setp(ax, xticks=list(range(0,24)))\n",
        "\n",
        "for sentiment_type in sentiment_type:\n",
        "    split = pivot_tweets.xs(sentiment_type)\n",
        "    split[\"count\"].plot( legend=True, label='' + str(sentiment_type))\n",
        "plt.title('Evolution of sentiments by hour', bbox={'facecolor':'0.8', 'pad':0}) "
      ],
      "execution_count": 50,
      "outputs": [
        {
          "output_type": "execute_result",
          "data": {
            "text/plain": [
              "Text(0.5, 1.0, 'Evolution of sentiments by hour')"
            ]
          },
          "metadata": {
            "tags": []
          },
          "execution_count": 50
        },
        {
          "output_type": "display_data",
          "data": {
            "image/png": "[encoded data removed]",
            "text/plain": [
              "<Figure size 432x288 with 1 Axes>"
            ]
          },
          "metadata": {
            "tags": []
          }
        }
      ]
    }
  ]
}